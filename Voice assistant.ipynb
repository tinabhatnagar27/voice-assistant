{
 "cells": [
  {
   "cell_type": "code",
   "execution_count": 1,
   "id": "bd956202-f3ac-4044-9bf1-150b5fb65108",
   "metadata": {
    "scrolled": true
   },
   "outputs": [
    {
     "name": "stdout",
     "output_type": "stream",
     "text": [
      "Requirement already satisfied: SpeechRecognition in c:\\users\\bhatn\\appdata\\local\\programs\\python\\python312\\lib\\site-packages (3.10.4)\n",
      "Requirement already satisfied: requests>=2.26.0 in c:\\users\\bhatn\\appdata\\local\\programs\\python\\python312\\lib\\site-packages (from SpeechRecognition) (2.32.3)\n",
      "Requirement already satisfied: typing-extensions in c:\\users\\bhatn\\appdata\\local\\programs\\python\\python312\\lib\\site-packages (from SpeechRecognition) (4.12.1)\n",
      "Requirement already satisfied: charset-normalizer<4,>=2 in c:\\users\\bhatn\\appdata\\local\\programs\\python\\python312\\lib\\site-packages (from requests>=2.26.0->SpeechRecognition) (3.3.2)\n",
      "Requirement already satisfied: idna<4,>=2.5 in c:\\users\\bhatn\\appdata\\local\\programs\\python\\python312\\lib\\site-packages (from requests>=2.26.0->SpeechRecognition) (3.7)\n",
      "Requirement already satisfied: urllib3<3,>=1.21.1 in c:\\users\\bhatn\\appdata\\local\\programs\\python\\python312\\lib\\site-packages (from requests>=2.26.0->SpeechRecognition) (2.2.1)\n",
      "Requirement already satisfied: certifi>=2017.4.17 in c:\\users\\bhatn\\appdata\\local\\programs\\python\\python312\\lib\\site-packages (from requests>=2.26.0->SpeechRecognition) (2024.6.2)\n",
      "Note: you may need to restart the kernel to use updated packages.\n"
     ]
    }
   ],
   "source": [
    "pip install SpeechRecognition"
   ]
  },
  {
   "cell_type": "code",
   "execution_count": 2,
   "id": "2ff0d245-50f7-4c66-a62f-cb7a53d1995e",
   "metadata": {},
   "outputs": [
    {
     "name": "stdout",
     "output_type": "stream",
     "text": [
      "Requirement already satisfied: pyttsx3 in c:\\users\\bhatn\\appdata\\local\\programs\\python\\python312\\lib\\site-packages (2.90)\n",
      "Requirement already satisfied: comtypes in c:\\users\\bhatn\\appdata\\local\\programs\\python\\python312\\lib\\site-packages (from pyttsx3) (1.4.3)\n",
      "Requirement already satisfied: pypiwin32 in c:\\users\\bhatn\\appdata\\local\\programs\\python\\python312\\lib\\site-packages (from pyttsx3) (223)\n",
      "Requirement already satisfied: pywin32 in c:\\users\\bhatn\\appdata\\local\\programs\\python\\python312\\lib\\site-packages (from pyttsx3) (306)\n",
      "Note: you may need to restart the kernel to use updated packages.\n"
     ]
    }
   ],
   "source": [
    "pip install pyttsx3"
   ]
  },
  {
   "cell_type": "code",
   "execution_count": 3,
   "id": "f6ee3645-7f05-4531-9367-269eedc7964c",
   "metadata": {},
   "outputs": [
    {
     "name": "stdout",
     "output_type": "stream",
     "text": [
      "Requirement already satisfied: wikipedia in c:\\users\\bhatn\\appdata\\local\\programs\\python\\python312\\lib\\site-packages (1.4.0)\n",
      "Requirement already satisfied: beautifulsoup4 in c:\\users\\bhatn\\appdata\\local\\programs\\python\\python312\\lib\\site-packages (from wikipedia) (4.12.3)\n",
      "Requirement already satisfied: requests<3.0.0,>=2.0.0 in c:\\users\\bhatn\\appdata\\local\\programs\\python\\python312\\lib\\site-packages (from wikipedia) (2.32.3)\n",
      "Requirement already satisfied: charset-normalizer<4,>=2 in c:\\users\\bhatn\\appdata\\local\\programs\\python\\python312\\lib\\site-packages (from requests<3.0.0,>=2.0.0->wikipedia) (3.3.2)\n",
      "Requirement already satisfied: idna<4,>=2.5 in c:\\users\\bhatn\\appdata\\local\\programs\\python\\python312\\lib\\site-packages (from requests<3.0.0,>=2.0.0->wikipedia) (3.7)\n",
      "Requirement already satisfied: urllib3<3,>=1.21.1 in c:\\users\\bhatn\\appdata\\local\\programs\\python\\python312\\lib\\site-packages (from requests<3.0.0,>=2.0.0->wikipedia) (2.2.1)\n",
      "Requirement already satisfied: certifi>=2017.4.17 in c:\\users\\bhatn\\appdata\\local\\programs\\python\\python312\\lib\\site-packages (from requests<3.0.0,>=2.0.0->wikipedia) (2024.6.2)\n",
      "Requirement already satisfied: soupsieve>1.2 in c:\\users\\bhatn\\appdata\\local\\programs\\python\\python312\\lib\\site-packages (from beautifulsoup4->wikipedia) (2.5)\n",
      "Note: you may need to restart the kernel to use updated packages.\n"
     ]
    }
   ],
   "source": [
    "pip install wikipedia\n"
   ]
  },
  {
   "cell_type": "code",
   "execution_count": 4,
   "id": "68c86b9d-3293-4e87-8c3b-094ad2ef2343",
   "metadata": {},
   "outputs": [
    {
     "name": "stdout",
     "output_type": "stream",
     "text": [
      "Requirement already satisfied: datetime in c:\\users\\bhatn\\appdata\\local\\programs\\python\\python312\\lib\\site-packages (5.5)\n",
      "Requirement already satisfied: zope.interface in c:\\users\\bhatn\\appdata\\local\\programs\\python\\python312\\lib\\site-packages (from datetime) (6.4.post2)\n",
      "Requirement already satisfied: pytz in c:\\users\\bhatn\\appdata\\local\\programs\\python\\python312\\lib\\site-packages (from datetime) (2024.1)\n",
      "Requirement already satisfied: setuptools in c:\\users\\bhatn\\appdata\\local\\programs\\python\\python312\\lib\\site-packages (from zope.interface->datetime) (70.0.0)\n",
      "Note: you may need to restart the kernel to use updated packages.\n"
     ]
    }
   ],
   "source": [
    "pip install datetime"
   ]
  },
  {
   "cell_type": "code",
   "execution_count": 5,
   "id": "a8e649b3-eec3-495f-97bb-829f995e4418",
   "metadata": {
    "scrolled": true
   },
   "outputs": [
    {
     "name": "stdout",
     "output_type": "stream",
     "text": [
      "Listening...\n",
      "User said: what's the date\n",
      "Listening...\n",
      "User said: what's the time\n",
      "Listening...\n",
      "User said: hello\n",
      "Listening...\n",
      "User said: exit\n"
     ]
    }
   ],
   "source": [
    "import speech_recognition as sr\n",
    "import pyttsx3\n",
    "from datetime import datetime\n",
    "import webbrowser\n",
    "\n",
    "# Initialize the recognizer and the text-to-speech engine\n",
    "recognizer = sr.Recognizer()\n",
    "tts_engine = pyttsx3.init()\n",
    "\n",
    "def speak(text):\n",
    "    tts_engine.say(text)\n",
    "    tts_engine.runAndWait()\n",
    "\n",
    "def listen():\n",
    "    with sr.Microphone() as source:\n",
    "        print(\"Listening...\")\n",
    "        audio = recognizer.listen(source)\n",
    "        try:\n",
    "            command = recognizer.recognize_google(audio)\n",
    "            print(f\"User said: {command}\")\n",
    "            return command.lower()\n",
    "        except sr.UnknownValueError:\n",
    "            print(\"Sorry, I did not understand that.\")\n",
    "            return \"\"\n",
    "        except sr.RequestError:\n",
    "            print(\"Could not request results; check your network connection.\")\n",
    "            return \"\"\n",
    "\n",
    "def respond(command):\n",
    "    if \"hello\" in command:\n",
    "        speak(\"Hello! How can I assist you today?\")\n",
    "    elif \"time\" in command:\n",
    "        current_time = datetime.now().strftime(\"%I:%M %p\")\n",
    "        speak(f\"The current time is {current_time}.\")\n",
    "    elif \"date\" in command:\n",
    "        current_date = datetime.now().strftime(\"%B %d, %Y\")\n",
    "        speak(f\"Today's date is {current_date}.\")\n",
    "    elif \"search\" in command:\n",
    "        speak(\"What do you want to search for?\")\n",
    "        query = listen()\n",
    "        if query:\n",
    "            webbrowser.open(f\"https://www.google.com/search?q={query}\")\n",
    "            speak(f\"Searching for {query}.\")\n",
    "    else:\n",
    "        speak(\"I did not understand that command.\")\n",
    "\n",
    "def main():\n",
    "    speak(\"Voice assistant is now active.\")\n",
    "    while True:\n",
    "        command = listen()\n",
    "        if \"exit\" in command or \"quit\" in command:\n",
    "            speak(\"Goodbye!\")\n",
    "            break\n",
    "        respond(command)\n",
    "\n",
    "# Run the main function to start the voice assistant\n",
    "main()"
   ]
  },
  {
   "cell_type": "code",
   "execution_count": null,
   "id": "30d617eb-2dc3-4761-8e10-5d8169c7f97c",
   "metadata": {},
   "outputs": [],
   "source": []
  },
  {
   "cell_type": "code",
   "execution_count": null,
   "id": "642a5012-53d7-4b8e-8f91-73e9815d0e1b",
   "metadata": {},
   "outputs": [],
   "source": []
  }
 ],
 "metadata": {
  "kernelspec": {
   "display_name": "Python 3 (ipykernel)",
   "language": "python",
   "name": "python3"
  },
  "language_info": {
   "codemirror_mode": {
    "name": "ipython",
    "version": 3
   },
   "file_extension": ".py",
   "mimetype": "text/x-python",
   "name": "python",
   "nbconvert_exporter": "python",
   "pygments_lexer": "ipython3",
   "version": "3.12.1"
  }
 },
 "nbformat": 4,
 "nbformat_minor": 5
}
